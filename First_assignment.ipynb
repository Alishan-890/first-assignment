{
  "nbformat": 4,
  "nbformat_minor": 0,
  "metadata": {
    "colab": {
      "provenance": []
    },
    "kernelspec": {
      "name": "python3",
      "display_name": "Python 3"
    },
    "language_info": {
      "name": "python"
    }
  },
  "cells": [
    {
      "cell_type": "markdown",
      "source": [
        "#Assignment Solution\n",
        "#Name: Muhammad Alishan Khan\n",
        "#Roll no : 093\n",
        "#Course: AI and DS\n",
        "#Teacher: Faisal Amin"
      ],
      "metadata": {
        "id": "JyWp6nRAWFCT"
      }
    },
    {
      "cell_type": "markdown",
      "source": [
        "## Part A: Print Statement"
      ],
      "metadata": {
        "id": "xZpP_gATWpjj"
      }
    },
    {
      "cell_type": "code",
      "execution_count": 14,
      "metadata": {
        "colab": {
          "base_uri": "https://localhost:8080/"
        },
        "id": "OAT_pTb4U9KG",
        "outputId": "1785a784-4c91-4e50-83d0-666809be0874"
      },
      "outputs": [
        {
          "output_type": "stream",
          "name": "stdout",
          "text": [
            "My name is Muhammad Alishan Khan and my age is 19\n"
          ]
        }
      ],
      "source": [
        "#1. Print your name and age\n",
        "print(\"My name is Muhammad Alishan Khan and my age is 19\")\n"
      ]
    },
    {
      "cell_type": "code",
      "source": [
        "#2. Use sep with numbers\n",
        "print(1, 2, 3, 4, 5, sep=\"-\")\n",
        "print(1, 2, 3, 4, 5, sep=\"|\")\n",
        "print(1, 2, 3, 4, 5, sep=\",\")\n"
      ],
      "metadata": {
        "colab": {
          "base_uri": "https://localhost:8080/"
        },
        "id": "n2NBkSHDVj8D",
        "outputId": "4647a13e-45e4-4388-ee1e-abad7c34b50f"
      },
      "execution_count": 15,
      "outputs": [
        {
          "output_type": "stream",
          "name": "stdout",
          "text": [
            "1-2-3-4-5\n",
            "1|2|3|4|5\n",
            "1,2,3,4,5\n"
          ]
        }
      ]
    },
    {
      "cell_type": "code",
      "source": [
        "#3. Use end to print in two statements\n",
        "print(\"Hello World!\", end=\" \")\n",
        "print(\"I am learning Python\")\n"
      ],
      "metadata": {
        "colab": {
          "base_uri": "https://localhost:8080/"
        },
        "id": "I2EvU61AVrnb",
        "outputId": "f981a8e4-bac8-49c1-899f-a5568850f691"
      },
      "execution_count": 16,
      "outputs": [
        {
          "output_type": "stream",
          "name": "stdout",
          "text": [
            "Hello World! I am learning Python\n"
          ]
        }
      ]
    },
    {
      "cell_type": "code",
      "source": [
        "#4. Print the shape\n",
        "print(\"*\")\n",
        "print(\"* *\")\n",
        "print(\"* * *\")\n",
        "print(\"* * * *\")\n"
      ],
      "metadata": {
        "colab": {
          "base_uri": "https://localhost:8080/"
        },
        "id": "cv4YpK2YVyWE",
        "outputId": "80f36ebc-3b59-4487-eedd-7034cabab425"
      },
      "execution_count": 17,
      "outputs": [
        {
          "output_type": "stream",
          "name": "stdout",
          "text": [
            "*\n",
            "* *\n",
            "* * *\n",
            "* * * *\n"
          ]
        }
      ]
    },
    {
      "cell_type": "markdown",
      "source": [
        "## Part B: Variables"
      ],
      "metadata": {
        "id": "fydSdAzWWiFe"
      }
    },
    {
      "cell_type": "code",
      "source": [
        "# 1. Variables name, age, city\n",
        "name = \"Muhammad Alishan Khan\"\n",
        "age = 19\n",
        "city = \"Karachi\"\n",
        "print(\"My name is\", name, \", I am\", age, \"years old and I live in\", city)\n"
      ],
      "metadata": {
        "colab": {
          "base_uri": "https://localhost:8080/"
        },
        "id": "G7bvDMeuV7hJ",
        "outputId": "0f437672-be43-47b5-e0e1-fab08bf96c76"
      },
      "execution_count": 18,
      "outputs": [
        {
          "output_type": "stream",
          "name": "stdout",
          "text": [
            "My name is Muhammad Alishan Khan , I am 19 years old and I live in Karachi\n"
          ]
        }
      ]
    },
    {
      "cell_type": "code",
      "source": [
        "#2. Variables a = 10, b = 20\n",
        "a = 10\n",
        "b = 20\n",
        "print(\"Sum:\", a + b)\n",
        "print(\"Difference:\", a - b)\n",
        "print(\"Product:\", a * b)\n",
        "print(\"Division:\", a / b)\n"
      ],
      "metadata": {
        "colab": {
          "base_uri": "https://localhost:8080/"
        },
        "id": "y57_7zykWbQk",
        "outputId": "0e5bc3a7-23ef-48e8-e9b8-532456836c0b"
      },
      "execution_count": 19,
      "outputs": [
        {
          "output_type": "stream",
          "name": "stdout",
          "text": [
            "Sum: 30\n",
            "Difference: -10\n",
            "Product: 200\n",
            "Division: 0.5\n"
          ]
        }
      ]
    },
    {
      "cell_type": "code",
      "source": [
        "#3. Reassign a = 15, b = 25\n",
        "a = 15\n",
        "b = 25\n",
        "print(\"Sum:\", a + b)\n",
        "print(\"Difference:\", a - b)\n",
        "print(\"Product:\", a * b)\n",
        "print(\"Division:\", a / b)\n"
      ],
      "metadata": {
        "colab": {
          "base_uri": "https://localhost:8080/"
        },
        "id": "ynrM9kMUW9lp",
        "outputId": "06a2e5f3-189a-419f-cf85-8f0ddc052ec2"
      },
      "execution_count": 20,
      "outputs": [
        {
          "output_type": "stream",
          "name": "stdout",
          "text": [
            "Sum: 40\n",
            "Difference: -10\n",
            "Product: 375\n",
            "Division: 0.6\n"
          ]
        }
      ]
    },
    {
      "cell_type": "code",
      "source": [
        "#4. Area of a circle (r = 5)\n",
        "pi = 3.14159\n",
        "r = 5\n",
        "area = pi * r * r\n",
        "print(\"Area of circle with radius 5 is:\", area)\n"
      ],
      "metadata": {
        "colab": {
          "base_uri": "https://localhost:8080/"
        },
        "id": "5wR_icwKXGQG",
        "outputId": "cf10aa5c-32f5-4877-aafe-fabc9b1a7d82"
      },
      "execution_count": 21,
      "outputs": [
        {
          "output_type": "stream",
          "name": "stdout",
          "text": [
            "Area of circle with radius 5 is: 78.53975\n"
          ]
        }
      ]
    },
    {
      "cell_type": "markdown",
      "source": [
        "##Bonus Challenge:"
      ],
      "metadata": {
        "id": "rlK_fD87XTCc"
      }
    },
    {
      "cell_type": "code",
      "source": [
        "#Swap without third variable\n",
        "x = 7\n",
        "y = 3\n",
        "print(\"Before swapping: x =\", x, \", y =\", y)\n",
        "x, y = y, x\n",
        "print(\"After swapping: x =\", x, \", y =\", y)\n"
      ],
      "metadata": {
        "colab": {
          "base_uri": "https://localhost:8080/"
        },
        "id": "k2nKbxGQXNG5",
        "outputId": "08c2254f-9877-4af8-81f8-8b5845243cdf"
      },
      "execution_count": 22,
      "outputs": [
        {
          "output_type": "stream",
          "name": "stdout",
          "text": [
            "Before swapping: x = 7 , y = 3\n",
            "After swapping: x = 3 , y = 7\n"
          ]
        }
      ]
    },
    {
      "cell_type": "code",
      "source": [],
      "metadata": {
        "id": "CiF9zKdeXc5S"
      },
      "execution_count": 22,
      "outputs": []
    }
  ]
}